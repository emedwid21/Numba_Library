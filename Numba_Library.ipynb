{
 "cells": [
  {
   "cell_type": "markdown",
   "metadata": {},
   "source": [
    "### **Numba Python Library**\n",
    "**What is Numba?** <br>\n",
    "\"Numba is an open source JIT (just-in-time) compiler that translates a subset of Python and NumPy code into fast machine code\" - numba.pydata.org <br>\n",
    " - Uses LLVM compiler library to translate Python functions to optimized machine code <br>\n",
    " - Numba's speed is comparable to code in C, C++ and Fortran <br>\n",
    " \n",
    "**Why Numba?**\n",
    " - Useful to speed up computationally heavy Python functions, especially loops <br>\n",
    " - Can run a simple NumPy operation up to 2 times faster and complex Python loops 4 times faster than before\n",
    " - Can still use the same Python code and only have to add a decorator around a function\n",
    " - Functions are cached after first use, meaning it will be even faster to run with its next use\n",
    "    "
   ]
  },
  {
   "cell_type": "code",
   "execution_count": 16,
   "metadata": {},
   "outputs": [],
   "source": [
    "# pip install numba"
   ]
  },
  {
   "cell_type": "code",
   "execution_count": 17,
   "metadata": {},
   "outputs": [],
   "source": [
    "import numpy as np\n",
    "import numba\n",
    "from numba import jit"
   ]
  },
  {
   "cell_type": "code",
   "execution_count": 18,
   "metadata": {},
   "outputs": [
    {
     "name": "stdout",
     "output_type": "stream",
     "text": [
      "0.52.0\n"
     ]
    }
   ],
   "source": [
    "print(numba.__version__)"
   ]
  },
  {
   "cell_type": "markdown",
   "metadata": {},
   "source": [
    "### Numba's JIT Compilier\n",
    "The central feature of Numba is the numba.jit() decorator. This decorator marks a function for optimization and decides when and how to optimize.  "
   ]
  },
  {
   "cell_type": "code",
   "execution_count": 19,
   "metadata": {},
   "outputs": [],
   "source": [
    "@jit \n",
    "def f(x, y):\n",
    "    output = x - y\n",
    "    return output"
   ]
  },
  {
   "cell_type": "code",
   "execution_count": 20,
   "metadata": {},
   "outputs": [
    {
     "name": "stdout",
     "output_type": "stream",
     "text": [
      "1\n",
      "(-2+3j)\n"
     ]
    }
   ],
   "source": [
    "print(f(3,2))\n",
    "print(f(3j,2))"
   ]
  },
  {
   "cell_type": "markdown",
   "metadata": {},
   "source": [
    "In this example, compilation is deferred until the first function is executed. Numba can also infer argument types and generate optimized code and separate specializations based on the information it is given. In the above example, a different output was produced depending on th argument types that were called in the function f()."
   ]
  },
  {
   "cell_type": "markdown",
   "metadata": {},
   "source": [
    "We can also specify the type, or the function signature, we are expecting to give the function. Now, the @jit decorator will only compile inputs that meet the function's signature and no other specialization will be allowed. "
   ]
  },
  {
   "cell_type": "code",
   "execution_count": 21,
   "metadata": {},
   "outputs": [],
   "source": [
    "from numba import jit, int64\n",
    "@jit(int64(int64, int64))\n",
    "def f(x, y):\n",
    "    output = x - y\n",
    "    return output"
   ]
  },
  {
   "cell_type": "code",
   "execution_count": 22,
   "metadata": {},
   "outputs": [
    {
     "name": "stdout",
     "output_type": "stream",
     "text": [
      "2\n",
      "-1\n"
     ]
    }
   ],
   "source": [
    "print(f(5, 3))\n",
    "print(f(2**62, 2**62 + 1))"
   ]
  },
  {
   "cell_type": "markdown",
   "metadata": {},
   "source": [
    "### JIT Signatures\n",
    " - void - functions that return nothing\n",
    " - intp and uintp - pointer-sized integers\n",
    " - intc and uintc - same as C integer types\n",
    " - int8, uint8, int16, uint16, int32, uint32, int64, uint64\n",
    " - float32, float64\n",
    " - complex64, complex28 - single and double precision complex numbers\n",
    " - float32[:] and int8[:] - array types"
   ]
  },
  {
   "cell_type": "markdown",
   "metadata": {},
   "source": [
    "### Compilation Options\n",
    "Numba has to compilation modes: <br>\n",
    " - object mode - can handle all values as Python objects and uses Python C API to run code. Runs at the same speed as Python code.\n",
    " - nopython mode - prodcues faster code, but value types in functions cannot be assigned and must be inferred. Will begin to use object mode if hits limitations, but can use nopython = True to prevent this from occuring. "
   ]
  },
  {
   "cell_type": "markdown",
   "metadata": {},
   "source": [
    "### Numba Speed Test"
   ]
  },
  {
   "cell_type": "markdown",
   "metadata": {},
   "source": [
    "We will build a function using the Numba compiler and conduct a speed test for the run time of the function using Numba and then only Python functions. Will use the nopython = True compilation mode."
   ]
  },
  {
   "cell_type": "code",
   "execution_count": 23,
   "metadata": {},
   "outputs": [],
   "source": [
    "@jit(nopython=True)\n",
    "def go_fast(x):\n",
    "    a = np.arange(x)\n",
    "    #print(a)\n",
    "    for i in range(len(a)):\n",
    "        a[i] = np.sqrt(a[i])\n",
    "    return a "
   ]
  },
  {
   "cell_type": "code",
   "execution_count": 24,
   "metadata": {},
   "outputs": [
    {
     "data": {
      "text/plain": [
       "array([0, 1, 1, 1, 2, 2, 2, 2, 2, 3, 3, 3, 3, 3, 3, 3, 4, 4, 4, 4, 4, 4,\n",
       "       4, 4, 4, 5, 5, 5, 5, 5, 5, 5, 5, 5, 5, 5, 6, 6, 6, 6, 6, 6, 6, 6,\n",
       "       6, 6, 6, 6, 6, 7, 7, 7, 7, 7, 7, 7, 7, 7, 7, 7, 7, 7, 7, 7, 8, 8,\n",
       "       8, 8, 8, 8, 8, 8, 8, 8, 8, 8, 8, 8, 8, 8, 8, 9, 9, 9, 9, 9, 9, 9,\n",
       "       9, 9, 9, 9, 9, 9, 9, 9, 9, 9, 9, 9])"
      ]
     },
     "execution_count": 24,
     "metadata": {},
     "output_type": "execute_result"
    }
   ],
   "source": [
    "go_fast(100)"
   ]
  },
  {
   "cell_type": "markdown",
   "metadata": {},
   "source": [
    "Now that we have built our function, we can use the %timeit magic function to time how long it takes for the function to execute <br>\n",
    " - The %timeit magic function will run go_fast many times in a loop in order to get a more accurate estimation of its execution time"
   ]
  },
  {
   "cell_type": "code",
   "execution_count": 25,
   "metadata": {},
   "outputs": [
    {
     "name": "stdout",
     "output_type": "stream",
     "text": [
      "723 ns ± 2.51 ns per loop (mean ± std. dev. of 7 runs, 1000000 loops each)\n"
     ]
    }
   ],
   "source": [
    "%timeit go_fast(100)"
   ]
  },
  {
   "cell_type": "markdown",
   "metadata": {},
   "source": [
    "We can then use the .py_function to run go_fast as an original uncompiled Python function"
   ]
  },
  {
   "cell_type": "code",
   "execution_count": 26,
   "metadata": {},
   "outputs": [
    {
     "name": "stdout",
     "output_type": "stream",
     "text": [
      "202 µs ± 7.86 µs per loop (mean ± std. dev. of 7 runs, 10000 loops each)\n"
     ]
    }
   ],
   "source": [
    "np.testing.assert_array_equal(go_fast(100), go_fast.py_func(100)) # checks that both arrays are equal\n",
    "%timeit go_fast.py_func(100)"
   ]
  },
  {
   "cell_type": "markdown",
   "metadata": {},
   "source": [
    "We can compare the loop speed for each function:\n",
    " - Numba Function: 746 ns +- 13.1 ns per loop <br>\n",
    " - Original Python Function: 199 us +- 5.56 per loop <br>\n",
    "The Numba function is much faster than the Python function. Numba is able to execute so fast because it uses explicit loops that do no run fast in Python. "
   ]
  },
  {
   "cell_type": "code",
   "execution_count": 27,
   "metadata": {},
   "outputs": [],
   "source": [
    "@jit(nopython=True)\n",
    "def car_simulation(N):\n",
    "    #N = 5\n",
    "    m = np.random.randint(1,4,N)\n",
    "    t = np.random.randint(-1,2,N)\n",
    "    x = [0 for i in range(N)]\n",
    "    y = [0 for i in range(N)]\n",
    "    d = [0 for i in range(N)]\n",
    "\n",
    "    point_x = 0\n",
    "    point_y = 0\n",
    "\n",
    "    for i in range(0,N):\n",
    "        d[i] = (d[i-1] + t[i]) % 4\n",
    "        if d[i] == 0:\n",
    "            point_y = point_y + m[i] \n",
    "        elif d[i] == 1:\n",
    "            point_x = point_x + m[i]\n",
    "        elif d[i] == 2:\n",
    "            point_y = point_y - m[i] \n",
    "        else:\n",
    "            point_x = point_x - m[i] \n",
    "        x[i] = point_x\n",
    "        y[i] = point_y"
   ]
  },
  {
   "cell_type": "code",
   "execution_count": 28,
   "metadata": {},
   "outputs": [
    {
     "name": "stdout",
     "output_type": "stream",
     "text": [
      "The slowest run took 13.86 times longer than the fastest. This could mean that an intermediate result is being cached.\n",
      "7.43 µs ± 8.41 µs per loop (mean ± std. dev. of 7 runs, 1 loop each)\n"
     ]
    }
   ],
   "source": [
    "%timeit car_simulation(10)"
   ]
  },
  {
   "cell_type": "code",
   "execution_count": 29,
   "metadata": {},
   "outputs": [
    {
     "name": "stdout",
     "output_type": "stream",
     "text": [
      "35.8 µs ± 1.01 µs per loop (mean ± std. dev. of 7 runs, 10000 loops each)\n"
     ]
    }
   ],
   "source": [
    "np.testing.assert_array_equal(car_simulation(10), car_simulation.py_func(10)) # checks that both arrays are equal\n",
    "%timeit car_simulation.py_func(10)"
   ]
  },
  {
   "cell_type": "markdown",
   "metadata": {},
   "source": [
    "### Disadvantages of Numba\n",
    " - Have to be using pure Python code in order to Numba to be beneficial. Could not use other libraries such as Pandas with Numba. \n",
    " - But, only takes a few minutes to check and see if it does work with your code"
   ]
  },
  {
   "cell_type": "markdown",
   "metadata": {},
   "source": [
    "### Sources\n",
    " - https://numba.pydata.org/ \n",
    " - https://numba.pydata.org/numba-doc/latest/user/jit.html\n",
    " - https://towardsdatascience.com/speed-up-your-algorithms-part-2-numba-293e554c5cc1 \n",
    " - https://towardsdatascience.com/heres-how-you-can-get-some-free-speed-on-your-python-code-with-numba-89fdc8249ef3"
   ]
  },
  {
   "cell_type": "code",
   "execution_count": null,
   "metadata": {},
   "outputs": [],
   "source": []
  }
 ],
 "metadata": {
  "environment": {
   "name": "tf2-gpu.2-3.m61",
   "type": "gcloud",
   "uri": "gcr.io/deeplearning-platform-release/tf2-gpu.2-3:m61"
  },
  "kernelspec": {
   "display_name": "Python 3",
   "language": "python",
   "name": "python3"
  },
  "language_info": {
   "codemirror_mode": {
    "name": "ipython",
    "version": 3
   },
   "file_extension": ".py",
   "mimetype": "text/x-python",
   "name": "python",
   "nbconvert_exporter": "python",
   "pygments_lexer": "ipython3",
   "version": "3.7.9"
  }
 },
 "nbformat": 4,
 "nbformat_minor": 4
}
